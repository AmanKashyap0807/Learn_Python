{
 "cells": [
  {
   "cell_type": "markdown",
   "id": "451cfef6-1a46-41b5-80bb-bbd42dd389fb",
   "metadata": {},
   "source": [
    "# Q1. L is a list defined as L= [11, 12, 13, 14].\r\n",
    "(i) WAP to add 50 and 60 to L. \r\n",
    "(ii) WAP to remove 11 and 13from L.\r\n",
    "(iii) WAP to sort L in ascending order.\r\n",
    "(iv) WAP to sort L in descending order.\r\n",
    "(v) WAP to search for 13 in L.\r\n",
    "(vi) WAP to count the number of elements present in L.\r\n",
    "(vii) WAP to sum all the elements in L.\r\n",
    "(viii) WAP to sum all ODD numbers in L.\r\n",
    "(ix) WAP to sum all EVEN numbers in L.\r\n",
    "(x) WAP to sum all PRIME numbers in L.\r\n",
    "(xi) WAP to clear all the elements in L.\r\n",
    "(xii) WAP to delete L"
   ]
  },
  {
   "cell_type": "code",
   "execution_count": 13,
   "id": "527892fa-6dc3-44cc-943c-ea5d0147840b",
   "metadata": {},
   "outputs": [
    {
     "name": "stdout",
     "output_type": "stream",
     "text": [
      "[11, 12, 13, 14]\n",
      "after inserting 50:  [11, 12, 13, 14, 50]\n",
      "after inserting 60:  [11, 12, 13, 14, 50, 60]\n"
     ]
    }
   ],
   "source": [
    "#1.WAP to add 50 and 60 to L.\n",
    "L= [11, 12, 13, 14]\n",
    "print(L)\n",
    "L.append(50)  #List.append(a) push the element at the end of the list\n",
    "print(\"after inserting 50: \",L)\n",
    "L.append(60)\n",
    "print(\"after inserting 60: \",L)"
   ]
  },
  {
   "cell_type": "code",
   "execution_count": 23,
   "id": "042357af-b43e-4fcd-b7ee-1300bbee4573",
   "metadata": {},
   "outputs": [
    {
     "name": "stdout",
     "output_type": "stream",
     "text": [
      "[11, 12, 13, 14]\n",
      "after removing 11:  [12, 13, 14]\n",
      "after removing 13:  [12, 14]\n"
     ]
    }
   ],
   "source": [
    "#2 WAP to remove 11 and 13from L.\n",
    "L= [11, 12, 13, 14]\n",
    "print(L)\n",
    "L.remove(11)  #List.remove(a) remove first occurance of a                 \n",
    "print(\"after removing 11: \",L)\n",
    "L.remove(13)\n",
    "print(\"after removing 13: \",L)"
   ]
  },
  {
   "cell_type": "code",
   "execution_count": 29,
   "id": "73fb4622-9a01-4c71-8118-690e03fcffbf",
   "metadata": {},
   "outputs": [
    {
     "name": "stdout",
     "output_type": "stream",
     "text": [
      "[11, 13, 12, 14]\n",
      "sorting in ascending order:  [11, 12, 13, 14]\n"
     ]
    }
   ],
   "source": [
    "#3.WAP to sort L in ascending order.\n",
    "L= [11, 13, 12,  14]\n",
    "print(L)\n",
    "L.sort()   #List.sort() sort the list in ascending order\n",
    "print(\"sorting in ascending order: \",L)"
   ]
  },
  {
   "cell_type": "markdown",
   "id": "892f6c7e-1a22-4961-925f-e4bd53085333",
   "metadata": {},
   "source": [
    "# Q4. Write the following program.\r\n",
    "(i) WAP to print 100 random strings whose length between 6 and 8.\r\n",
    "(ii) WAP to print all prime numbers between 600 and 800.\r\n",
    "(iii) WAP to print all numbers between 100 and 1000 that are divisible by 7 and 9."
   ]
  },
  {
   "cell_type": "code",
   "execution_count": 25,
   "id": "70b5c640-6443-49d5-a872-1e682fbd6926",
   "metadata": {},
   "outputs": [
    {
     "name": "stdout",
     "output_type": "stream",
     "text": [
      "Available string element:  abcdefghijklmnopqrstuvwxyzABCDEFGHIJKLMNOPQRSTUVWXYZ\n",
      "Random strings: \n",
      "QcjfJLDl\n",
      "UKcYTx\n",
      "VzaeJiq\n",
      "LBwzHVD\n",
      "qNyDpBS\n",
      "XzCsWZp\n",
      "cisNjBmt\n",
      "vSqhVkeb\n",
      "EyaJQBze\n",
      "uFaBRp\n",
      "xGaTSdWg\n",
      "yzHAwlBF\n",
      "GPtuTOco\n",
      "XtrDlZHj\n",
      "MlamwQRL\n",
      "SThVDZcF\n",
      "TXlEgby\n",
      "QIhdgNkj\n",
      "LysvwJTu\n",
      "LWrMpK\n",
      "ldhzpKi\n",
      "DcNrByd\n",
      "snurCmT\n",
      "WfdUrR\n",
      "jXUrzt\n",
      "mxyPMO\n",
      "ZpvLfCHs\n",
      "NSEAOCof\n",
      "QNvVMj\n",
      "EWlhcB\n",
      "XENDSc\n",
      "tUlIrakn\n",
      "KjuesEm\n",
      "jaAOiK\n",
      "AEsIGTC\n",
      "lcEMiej\n",
      "aARJlBz\n",
      "XCQKBR\n",
      "eDAXxhMv\n",
      "labnSgtF\n",
      "BJXjVivh\n",
      "uYnsjU\n",
      "fakITHtl\n",
      "qjoIrQG\n",
      "fxEFwv\n",
      "bwvsJeA\n",
      "ACiNEkG\n",
      "TzVCWfpR\n",
      "gldfBqm\n",
      "lvTEjIKR\n",
      "ineuNJ\n",
      "BhwuKtC\n",
      "nlGtkDX\n",
      "tfzHKbW\n",
      "rLkReSzC\n",
      "GliCwb\n",
      "LcHAkjl\n",
      "EBsdfz\n",
      "pCvWAZe\n",
      "WadNXu\n",
      "YMUdtG\n",
      "BuVSnDT\n",
      "gkTLrcd\n",
      "tjMaPLN\n",
      "rIkfDN\n",
      "pWjTBx\n",
      "idokcmv\n",
      "ijwpPegm\n",
      "snOvfRrh\n",
      "BSGezgMY\n",
      "ETsfykt\n",
      "HNRoEvZ\n",
      "KgquFy\n",
      "KTziJEpO\n",
      "jkMTNmUh\n",
      "oRprZs\n",
      "HbQUPom\n",
      "hgqmbwsR\n",
      "dfTyMGBE\n",
      "RPcSly\n",
      "Puxdgwv\n",
      "jkZPQMO\n",
      "zqkHxmM\n",
      "hZwdLUt\n",
      "MSbhmL\n",
      "oKhrebER\n",
      "rxNGsud\n",
      "PqhJMH\n",
      "MPUqAEeN\n",
      "djDSlxvg\n",
      "aOizWCMp\n",
      "bGsxRf\n",
      "RMfODseE\n",
      "BmgiYHGC\n",
      "XoTsNC\n",
      "wGjYvRU\n",
      "zodLOfgm\n",
      "VcXswC\n",
      "WVNHberq\n",
      "VIkcxF\n"
     ]
    }
   ],
   "source": [
    "#1.WAP to print 100 random strings whose length between 6 and 8.\n",
    "import string as s\n",
    "import random as r\n",
    "print(\"Available string element: \",s.ascii_letters)\n",
    "print(\"Random strings: \")\n",
    "for i in range(100):\n",
    "    length=r.randint(6,8)\n",
    "    var=r.sample(s.ascii_letters,length)\n",
    "    print(\"\".join(var))"
   ]
  },
  {
   "cell_type": "code",
   "execution_count": 72,
   "id": "a51ef6f9-b977-4ce2-87c7-92acaadb1b37",
   "metadata": {},
   "outputs": [
    {
     "name": "stdout",
     "output_type": "stream",
     "text": [
      "601\n",
      "607\n",
      "613\n",
      "617\n",
      "619\n",
      "631\n",
      "641\n",
      "643\n",
      "647\n",
      "653\n",
      "659\n",
      "661\n",
      "673\n",
      "677\n",
      "683\n",
      "691\n",
      "701\n",
      "709\n",
      "719\n",
      "727\n",
      "733\n",
      "739\n",
      "743\n",
      "751\n",
      "757\n",
      "761\n",
      "769\n",
      "773\n",
      "787\n",
      "797\n"
     ]
    }
   ],
   "source": [
    "#2.WAP to print all prime numbers between 600 and 800.\n",
    "def isprime(a):\n",
    "    for i in range(2,a//2+1):\n",
    "        if a%i==0:\n",
    "            return False\n",
    "    return True\n",
    "\n",
    "for i in range(600,801):\n",
    "    if isprime(i):\n",
    "        print(i)"
   ]
  },
  {
   "cell_type": "code",
   "execution_count": 74,
   "id": "4d301202-04aa-419b-85d8-a867091f5d58",
   "metadata": {},
   "outputs": [
    {
     "name": "stdout",
     "output_type": "stream",
     "text": [
      "126\n",
      "189\n",
      "252\n",
      "315\n",
      "378\n",
      "441\n",
      "504\n",
      "567\n",
      "630\n",
      "693\n",
      "756\n",
      "819\n",
      "882\n",
      "945\n"
     ]
    }
   ],
   "source": [
    "#(iii) WAP to print all numbers between 100 and 1000 that are divisible by 7 and 9.\n",
    "for i in range(100,1001):\n",
    "    if i%63==0:\n",
    "        print(i)"
   ]
  },
  {
   "cell_type": "markdown",
   "id": "3e672314-a237-4893-b94b-69e3a00f914b",
   "metadata": {},
   "source": [
    "# Q5. WAP to create two lists of 10 random numbers between 10 and 30; Find \r\n",
    "(i) Common numbers in the two lists\r\n",
    "(ii) Unique numbers in both the list\r\n",
    "(iii) Minimum in both the list\r\n",
    "(iv) Maximum in both the list\r\n",
    "(v) Sum of both the lists"
   ]
  },
  {
   "cell_type": "code",
   "execution_count": null,
   "id": "0096c583-d9f5-4cff-a120-1092a5f437e9",
   "metadata": {},
   "outputs": [],
   "source": [
    "#WAP to create two lists of 10 random numbers between 10 and 30\n",
    "import random as r\n",
    "def makeList():\n",
    "    for i in range"
   ]
  }
 ],
 "metadata": {
  "kernelspec": {
   "display_name": "Python 3 (ipykernel)",
   "language": "python",
   "name": "python3"
  },
  "language_info": {
   "codemirror_mode": {
    "name": "ipython",
    "version": 3
   },
   "file_extension": ".py",
   "mimetype": "text/x-python",
   "name": "python",
   "nbconvert_exporter": "python",
   "pygments_lexer": "ipython3",
   "version": "3.11.7"
  }
 },
 "nbformat": 4,
 "nbformat_minor": 5
}
